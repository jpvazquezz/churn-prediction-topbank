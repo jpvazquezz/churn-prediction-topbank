{
 "cells": [
  {
   "cell_type": "markdown",
   "metadata": {},
   "source": [
    "# 0.0 Planejamento da Solução"
   ]
  },
  {
   "cell_type": "markdown",
   "metadata": {},
   "source": [
    "## Inputs"
   ]
  },
  {
   "cell_type": "markdown",
   "metadata": {},
   "source": [
    "* Problema de negócio: descobrir a probabilidade de churn dos clientes\n",
    "* Modelo de negócio:\n",
    "    - Contratos anuais (12 meses)\n",
    "    - Faturamento anual por cliente: 15% do salário mensal se MENOR que a média, 20% do salário mensal se MAIOR que média.\n",
    "* Dados: base de dados da empresa TopBank (serviços bancários)."
   ]
  },
  {
   "cell_type": "markdown",
   "metadata": {},
   "source": [
    "## Outputs"
   ]
  },
  {
   "cell_type": "markdown",
   "metadata": {},
   "source": [
    "* Modelo em produção via API com base “scorada\": uma coluna à mais com a probabilidade de cada cliente entrar em churn. `prob_churn`.\n",
    "* Relatório de Performance e Impacto Financeiro:\n",
    "    - Qual a taxa atual de Churn da TopBank? Como ela varia mensalmente?\n",
    "    - Qual a Performance do modelo em classificar os clientes como churns?\n",
    "    - Qual o retorno esperado, em termos de faturamento, se a empresa utilizar seu modelo para evitar o churn dos clientes?\n",
    "* Plano de ação - Cupom de desconto: \n",
    "    - Para quais clientes você daria o incentivo financeiro e qual seria esse valor, de modo a maximizar o ROI (Retorno sobre o investimento). Lembrando que a soma dos incentivos não pode ultrapassar os  10.000,00."
   ]
  },
  {
   "cell_type": "markdown",
   "metadata": {},
   "source": [
    "## Tasks (Tarefas)"
   ]
  },
  {
   "cell_type": "markdown",
   "metadata": {},
   "source": [
    "* Qual a taxa atual de Churn da TopBank? Como ela varia mensalmente?\n",
    "    - Calcular a taxa anual média de todos os clientes\n",
    "    - Criar um Série Temporal com a variação ao longo dos meses\n",
    "* Qual a Performance do modelo em classificar os clientes como churns?\n",
    "    - Definir uma ou mais métricas de classificação como parâmetro\n",
    "* Qual o retorno esperado, em termos de faturamento, se a empresa utilizar seu modelo para evitar o churn dos clientes?\n",
    "    - Calcular o faturamento anual partindo do pressuposto que se consegue evitar que os clientes com mais probabilidade de churn efetivamente entrem em churn\n",
    "* Para quais clientes você daria o incentivo financeiro e qual seria esse valor, de modo a maximizar o ROI (Retorno sobre o investimento). Lembrando que a soma dos incentivos não pode ultrapassar os 10.000,00.\n",
    "    - Esses clientes serão os com mais probabilidade de churn e o valor vai depender da média salarial mensal desses clientes.\n"
   ]
  }
 ],
 "metadata": {
  "kernelspec": {
   "display_name": "Python 3",
   "language": "python",
   "name": "python3"
  },
  "language_info": {
   "codemirror_mode": {
    "name": "ipython",
    "version": 3
   },
   "file_extension": ".py",
   "mimetype": "text/x-python",
   "name": "python",
   "nbconvert_exporter": "python",
   "pygments_lexer": "ipython3",
   "version": "3.7.6"
  }
 },
 "nbformat": 4,
 "nbformat_minor": 4
}
