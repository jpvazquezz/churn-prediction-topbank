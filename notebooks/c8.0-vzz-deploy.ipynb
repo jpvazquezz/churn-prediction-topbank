{
 "cells": [
  {
   "cell_type": "markdown",
   "metadata": {},
   "source": [
    "# 0.0 Imports"
   ]
  },
  {
   "cell_type": "code",
   "execution_count": 1,
   "metadata": {},
   "outputs": [],
   "source": [
    "import pickle\n",
    "import seaborn as sns\n",
    "import matplotlib.pyplot as plt\n",
    "import pandas as pd\n",
    "import numpy as np\n",
    "import inflection\n",
    "from pandas_profiling import ProfileReport\n",
    "from boruta import BorutaPy\n",
    "\n",
    "from xgboost import XGBClassifier\n",
    "from sklearn.preprocessing import RobustScaler, MinMaxScaler, StandardScaler\n",
    "from sklearn.ensemble import RandomForestRegressor,RandomForestClassifier\n",
    "from sklearn.linear_model import LogisticRegression\n",
    "from sklearn.model_selection import train_test_split, KFold\n",
    "from sklearn.metrics import precision_score,recall_score, f1_score\n",
    "from sklearn.decomposition import PCA\n",
    "from sklearn.svm import SVC\n",
    "from sklearn.calibration import calibration_curve, CalibratedClassifierCV\n",
    "from imblearn.over_sampling import SMOTE\n",
    "from imblearn.combine import SMOTETomek\n",
    "\n",
    "from IPython.display import Image\n",
    "from IPython.core.display import HTML\n",
    "import warnings\n",
    "warnings.filterwarnings('ignore')"
   ]
  },
  {
   "cell_type": "markdown",
   "metadata": {},
   "source": [
    "## 0.1 Helper functions"
   ]
  },
  {
   "cell_type": "code",
   "execution_count": 2,
   "metadata": {},
   "outputs": [],
   "source": [
    "# def jupyter_settings():\n",
    "#     %matplotlib inline\n",
    "#     %pylab inline\n",
    "    \n",
    "#     plt.style.use( 'bmh' )\n",
    "#     plt.rcParams['figure.figsize'] = [25, 12]\n",
    "#     plt.rcParams['font.size'] = 24\n",
    "    \n",
    "#     display( HTML( '<style>.container { width:100% !important; }</style>') )\n",
    "#     pd.options.display.max_columns = None\n",
    "#     pd.options.display.max_rows = None\n",
    "#     pd.set_option( 'display.expand_frame_repr', False )\n",
    "    \n",
    "#     sns.set()\n",
    "# jupyter_settings()"
   ]
  },
  {
   "cell_type": "code",
   "execution_count": 3,
   "metadata": {},
   "outputs": [],
   "source": [
    "def cross_validation(X_train, y_train, n_folds, model_name, model, verbose=True):\n",
    "    # generate k-fold\n",
    "    f1_scores = []\n",
    "    n_folds = n_folds\n",
    "    kfold = KFold(n_splits=n_folds, shuffle=True, random_state=42)\n",
    "    i=1\n",
    "    if verbose:\n",
    "        for train_ix, val_ix in kfold.split(X_train, y_train):\n",
    "            print('Fold Nº: {}/{}'.format(i, n_folds))\n",
    "            # get fold\n",
    "            X_train_fold = X_train.iloc[train_ix]\n",
    "            y_train_fold = y_train.iloc[train_ix]\n",
    "\n",
    "            X_val_fold = X_train.iloc[val_ix]\n",
    "            y_val_fold = y_train.iloc[val_ix]\n",
    "\n",
    "\n",
    "            # training model\n",
    "            m = model.fit(X_train_fold, y_train_fold)\n",
    "\n",
    "            # prediction\n",
    "            pred_val = m.predict(X_val_fold)\n",
    "\n",
    "            # metric\n",
    "            # F1-Score\n",
    "            f1_fold = f1_score(pred_val,y_val_fold)\n",
    "            f1_scores.append(f1_fold)\n",
    "\n",
    "            i +=1\n",
    "    return pd.DataFrame({'Model Name': model_name,\n",
    "                         'Avg F1-Score':np.round(np.mean(f1_scores),3).astype(str)+ '+/-' + np.round(np.std(f1_scores),3).astype(str)}, index=[0])"
   ]
  },
  {
   "cell_type": "code",
   "execution_count": 4,
   "metadata": {},
   "outputs": [],
   "source": [
    "def f1_score_metric(model_name, y_test, pred):\n",
    "    return pd.DataFrame({'Model Name': model_name,\n",
    "                        'F1 Score': f1_score(pred,y_test).round(3)}, index=[0])"
   ]
  },
  {
   "cell_type": "markdown",
   "metadata": {},
   "source": [
    "## 0.2 Load Data"
   ]
  },
  {
   "cell_type": "code",
   "execution_count": 5,
   "metadata": {},
   "outputs": [],
   "source": [
    "df = pd.read_csv('..\\churn.csv')\n",
    "df.drop('RowNumber', axis=1, inplace=True)"
   ]
  },
  {
   "cell_type": "markdown",
   "metadata": {},
   "source": [
    "# 1.0 Data Description"
   ]
  },
  {
   "cell_type": "code",
   "execution_count": 6,
   "metadata": {},
   "outputs": [],
   "source": [
    "df1 = df.copy()"
   ]
  },
  {
   "cell_type": "markdown",
   "metadata": {},
   "source": [
    "## 1.2 Rename Columns"
   ]
  },
  {
   "cell_type": "code",
   "execution_count": 9,
   "metadata": {},
   "outputs": [],
   "source": [
    "cols_old = df1.columns.to_list()\n",
    "\n",
    "snakecase = lambda x: inflection.underscore(x)\n",
    "\n",
    "cols_new = list(map(snakecase, cols_old))\n",
    "\n",
    "#rename\n",
    "df1.columns = cols_new"
   ]
  },
  {
   "cell_type": "markdown",
   "metadata": {},
   "source": [
    "## 1.3 Data Types"
   ]
  },
  {
   "cell_type": "code",
   "execution_count": 10,
   "metadata": {},
   "outputs": [
    {
     "data": {
      "text/plain": [
       "customer_id           int64\n",
       "surname              object\n",
       "credit_score          int64\n",
       "geography            object\n",
       "gender               object\n",
       "age                   int64\n",
       "tenure                int64\n",
       "balance             float64\n",
       "num_of_products       int64\n",
       "has_cr_card           int64\n",
       "is_active_member      int64\n",
       "estimated_salary    float64\n",
       "exited                int64\n",
       "dtype: object"
      ]
     },
     "execution_count": 10,
     "metadata": {},
     "output_type": "execute_result"
    }
   ],
   "source": [
    "# Data types seem correct by default\n",
    "df1.dtypes"
   ]
  },
  {
   "cell_type": "markdown",
   "metadata": {},
   "source": [
    "## 1.4 Null  Values"
   ]
  },
  {
   "cell_type": "code",
   "execution_count": 11,
   "metadata": {},
   "outputs": [
    {
     "data": {
      "text/plain": [
       "customer_id         0\n",
       "surname             0\n",
       "credit_score        0\n",
       "geography           0\n",
       "gender              0\n",
       "age                 0\n",
       "tenure              0\n",
       "balance             0\n",
       "num_of_products     0\n",
       "has_cr_card         0\n",
       "is_active_member    0\n",
       "estimated_salary    0\n",
       "exited              0\n",
       "dtype: int64"
      ]
     },
     "execution_count": 11,
     "metadata": {},
     "output_type": "execute_result"
    }
   ],
   "source": [
    "# No NAs\n",
    "df1.isna().sum()"
   ]
  },
  {
   "cell_type": "markdown",
   "metadata": {},
   "source": [
    "# 2.0 Feature Engeenering"
   ]
  },
  {
   "cell_type": "code",
   "execution_count": 17,
   "metadata": {},
   "outputs": [],
   "source": [
    "df2 = df1.copy()"
   ]
  },
  {
   "cell_type": "markdown",
   "metadata": {},
   "source": [
    "## 2.1 Feature Creation"
   ]
  },
  {
   "cell_type": "markdown",
   "metadata": {},
   "source": [
    "Annual Revenue (per customer)"
   ]
  },
  {
   "cell_type": "code",
   "execution_count": 19,
   "metadata": {},
   "outputs": [],
   "source": [
    "## Try - List comprehension\n",
    "# df2['anual_revenue'] = [ (salary *0.15) if (salary < df2['estimated_salary'].mean()) else (salary *0.20) if (salary > df2['estimated_salary'].mean()) for salary in df2['estimated_salary']]\n",
    "\n",
    "anual_revenue = []\n",
    "for salary in df2['estimated_salary']:\n",
    "    if salary < df2['estimated_salary'].mean():\n",
    "        anual_revenue.append(salary*0.15)\n",
    "    elif salary > df2['estimated_salary'].mean():\n",
    "        anual_revenue.append(salary*0.20)\n",
    "df2['anual_revenue'] = pd.Series(anual_revenue)"
   ]
  },
  {
   "cell_type": "markdown",
   "metadata": {},
   "source": [
    "# 3.0 Feature Filtering"
   ]
  },
  {
   "cell_type": "code",
   "execution_count": 20,
   "metadata": {},
   "outputs": [],
   "source": [
    "df3 = df2.copy()"
   ]
  },
  {
   "cell_type": "code",
   "execution_count": 21,
   "metadata": {},
   "outputs": [
    {
     "data": {
      "text/html": [
       "<div>\n",
       "<style scoped>\n",
       "    .dataframe tbody tr th:only-of-type {\n",
       "        vertical-align: middle;\n",
       "    }\n",
       "\n",
       "    .dataframe tbody tr th {\n",
       "        vertical-align: top;\n",
       "    }\n",
       "\n",
       "    .dataframe thead th {\n",
       "        text-align: right;\n",
       "    }\n",
       "</style>\n",
       "<table border=\"1\" class=\"dataframe\">\n",
       "  <thead>\n",
       "    <tr style=\"text-align: right;\">\n",
       "      <th></th>\n",
       "      <th>customer_id</th>\n",
       "      <th>surname</th>\n",
       "      <th>credit_score</th>\n",
       "      <th>geography</th>\n",
       "      <th>gender</th>\n",
       "      <th>age</th>\n",
       "      <th>tenure</th>\n",
       "      <th>balance</th>\n",
       "      <th>num_of_products</th>\n",
       "      <th>has_cr_card</th>\n",
       "      <th>is_active_member</th>\n",
       "      <th>estimated_salary</th>\n",
       "      <th>exited</th>\n",
       "      <th>anual_revenue</th>\n",
       "    </tr>\n",
       "  </thead>\n",
       "  <tbody>\n",
       "    <tr>\n",
       "      <th>0</th>\n",
       "      <td>15634602</td>\n",
       "      <td>Hargrave</td>\n",
       "      <td>619</td>\n",
       "      <td>France</td>\n",
       "      <td>Female</td>\n",
       "      <td>42</td>\n",
       "      <td>2</td>\n",
       "      <td>0.00</td>\n",
       "      <td>1</td>\n",
       "      <td>1</td>\n",
       "      <td>1</td>\n",
       "      <td>101348.88</td>\n",
       "      <td>1</td>\n",
       "      <td>20269.7760</td>\n",
       "    </tr>\n",
       "    <tr>\n",
       "      <th>1</th>\n",
       "      <td>15647311</td>\n",
       "      <td>Hill</td>\n",
       "      <td>608</td>\n",
       "      <td>Spain</td>\n",
       "      <td>Female</td>\n",
       "      <td>41</td>\n",
       "      <td>1</td>\n",
       "      <td>83807.86</td>\n",
       "      <td>1</td>\n",
       "      <td>0</td>\n",
       "      <td>1</td>\n",
       "      <td>112542.58</td>\n",
       "      <td>0</td>\n",
       "      <td>22508.5160</td>\n",
       "    </tr>\n",
       "    <tr>\n",
       "      <th>2</th>\n",
       "      <td>15619304</td>\n",
       "      <td>Onio</td>\n",
       "      <td>502</td>\n",
       "      <td>France</td>\n",
       "      <td>Female</td>\n",
       "      <td>42</td>\n",
       "      <td>8</td>\n",
       "      <td>159660.80</td>\n",
       "      <td>3</td>\n",
       "      <td>1</td>\n",
       "      <td>0</td>\n",
       "      <td>113931.57</td>\n",
       "      <td>1</td>\n",
       "      <td>22786.3140</td>\n",
       "    </tr>\n",
       "    <tr>\n",
       "      <th>3</th>\n",
       "      <td>15701354</td>\n",
       "      <td>Boni</td>\n",
       "      <td>699</td>\n",
       "      <td>France</td>\n",
       "      <td>Female</td>\n",
       "      <td>39</td>\n",
       "      <td>1</td>\n",
       "      <td>0.00</td>\n",
       "      <td>2</td>\n",
       "      <td>0</td>\n",
       "      <td>0</td>\n",
       "      <td>93826.63</td>\n",
       "      <td>0</td>\n",
       "      <td>14073.9945</td>\n",
       "    </tr>\n",
       "    <tr>\n",
       "      <th>4</th>\n",
       "      <td>15737888</td>\n",
       "      <td>Mitchell</td>\n",
       "      <td>850</td>\n",
       "      <td>Spain</td>\n",
       "      <td>Female</td>\n",
       "      <td>43</td>\n",
       "      <td>2</td>\n",
       "      <td>125510.82</td>\n",
       "      <td>1</td>\n",
       "      <td>1</td>\n",
       "      <td>1</td>\n",
       "      <td>79084.10</td>\n",
       "      <td>0</td>\n",
       "      <td>11862.6150</td>\n",
       "    </tr>\n",
       "  </tbody>\n",
       "</table>\n",
       "</div>"
      ],
      "text/plain": [
       "   customer_id   surname  credit_score geography  gender  age  tenure  \\\n",
       "0     15634602  Hargrave           619    France  Female   42       2   \n",
       "1     15647311      Hill           608     Spain  Female   41       1   \n",
       "2     15619304      Onio           502    France  Female   42       8   \n",
       "3     15701354      Boni           699    France  Female   39       1   \n",
       "4     15737888  Mitchell           850     Spain  Female   43       2   \n",
       "\n",
       "     balance  num_of_products  has_cr_card  is_active_member  \\\n",
       "0       0.00                1            1                 1   \n",
       "1   83807.86                1            0                 1   \n",
       "2  159660.80                3            1                 0   \n",
       "3       0.00                2            0                 0   \n",
       "4  125510.82                1            1                 1   \n",
       "\n",
       "   estimated_salary  exited  anual_revenue  \n",
       "0         101348.88       1     20269.7760  \n",
       "1         112542.58       0     22508.5160  \n",
       "2         113931.57       1     22786.3140  \n",
       "3          93826.63       0     14073.9945  \n",
       "4          79084.10       0     11862.6150  "
      ]
     },
     "execution_count": 21,
     "metadata": {},
     "output_type": "execute_result"
    }
   ],
   "source": [
    "df3.head()"
   ]
  },
  {
   "cell_type": "markdown",
   "metadata": {},
   "source": [
    "## 3.1 Column Filtering"
   ]
  },
  {
   "cell_type": "code",
   "execution_count": 21,
   "metadata": {},
   "outputs": [],
   "source": [
    "# Drop customer_id and surname\n",
    "df3.drop(['customer_id','surname'], axis=1, inplace=True)"
   ]
  },
  {
   "cell_type": "code",
   "execution_count": 22,
   "metadata": {},
   "outputs": [
    {
     "data": {
      "text/plain": [
       "1    36\n",
       "0    23\n",
       "Name: is_active_member, dtype: int64"
      ]
     },
     "execution_count": 22,
     "metadata": {},
     "output_type": "execute_result"
    }
   ],
   "source": [
    "df3[df3.estimated_salary<1000].is_active_member.value_counts()"
   ]
  },
  {
   "cell_type": "markdown",
   "metadata": {},
   "source": [
    "# 5.0 Data Preparation"
   ]
  },
  {
   "cell_type": "code",
   "execution_count": 62,
   "metadata": {},
   "outputs": [],
   "source": [
    "df5 = df3.copy()"
   ]
  },
  {
   "cell_type": "markdown",
   "metadata": {},
   "source": [
    "## 5.1. Categorical Variables"
   ]
  },
  {
   "cell_type": "code",
   "execution_count": 63,
   "metadata": {},
   "outputs": [],
   "source": [
    "# One-hot Encoding - Geography\n",
    "df5 = pd.get_dummies( df5, prefix=['geography'], columns=['geography'] )\n",
    "\n",
    "# Label encoding - Gender\n",
    "df5['gender'] = [1 if gender == 'Male' else 2 for gender in df5['gender']]"
   ]
  },
  {
   "cell_type": "markdown",
   "metadata": {},
   "source": [
    "## 5.2 Numerical Variables"
   ]
  },
  {
   "cell_type": "code",
   "execution_count": 64,
   "metadata": {},
   "outputs": [],
   "source": [
    "# Normalization - Almost normal distribution features\n",
    "ss = StandardScaler()\n",
    "\n",
    "df5['age'] = ss.fit_transform(df5[['age']].values)\n",
    "df5['credit_score'] = ss.fit_transform(df5[['credit_score']].values)\n",
    "\n",
    "pickle.dump(ss, open('src/standard_scaler.pkl', 'wb') )\n",
    "\n",
    "# Rescaling - Non-Normal distribuited features\n",
    "mms = MinMaxScaler(feature_range=(0, 1))\n",
    "\n",
    "df5['tenure'] = mms.fit_transform(df5[['tenure']].values)\n",
    "df5['estimated_salary'] = mms.fit_transform(df5[['estimated_salary']].values)\n",
    "df5['anual_revenue'] = mms.fit_transform(df5[['anual_revenue']].values)\n",
    "\n",
    "pickle.dump(mms, open('src/minmax_scaler.pkl', 'wb') )\n",
    "\n",
    "# Robust Scaler\n",
    "rs = RobustScaler()\n",
    "\n",
    "df5['balance'] = rs.fit_transform(df5[['balance']].values)\n",
    "\n",
    "pickle.dump(rs, open('src/robust_scaler.pkl', 'wb') )"
   ]
  },
  {
   "cell_type": "code",
   "execution_count": 65,
   "metadata": {
    "scrolled": true
   },
   "outputs": [
    {
     "data": {
      "text/html": [
       "<div>\n",
       "<style scoped>\n",
       "    .dataframe tbody tr th:only-of-type {\n",
       "        vertical-align: middle;\n",
       "    }\n",
       "\n",
       "    .dataframe tbody tr th {\n",
       "        vertical-align: top;\n",
       "    }\n",
       "\n",
       "    .dataframe thead th {\n",
       "        text-align: right;\n",
       "    }\n",
       "</style>\n",
       "<table border=\"1\" class=\"dataframe\">\n",
       "  <thead>\n",
       "    <tr style=\"text-align: right;\">\n",
       "      <th></th>\n",
       "      <th>credit_score</th>\n",
       "      <th>gender</th>\n",
       "      <th>age</th>\n",
       "      <th>tenure</th>\n",
       "      <th>balance</th>\n",
       "      <th>num_of_products</th>\n",
       "      <th>has_cr_card</th>\n",
       "      <th>is_active_member</th>\n",
       "      <th>estimated_salary</th>\n",
       "      <th>exited</th>\n",
       "      <th>anual_revenue</th>\n",
       "      <th>geography_France</th>\n",
       "      <th>geography_Germany</th>\n",
       "      <th>geography_Spain</th>\n",
       "    </tr>\n",
       "  </thead>\n",
       "  <tbody>\n",
       "    <tr>\n",
       "      <th>0</th>\n",
       "      <td>-0.326221</td>\n",
       "      <td>2</td>\n",
       "      <td>0.293517</td>\n",
       "      <td>0.2</td>\n",
       "      <td>-0.761480</td>\n",
       "      <td>1</td>\n",
       "      <td>1</td>\n",
       "      <td>1</td>\n",
       "      <td>0.506735</td>\n",
       "      <td>1</td>\n",
       "      <td>0.506742</td>\n",
       "      <td>1</td>\n",
       "      <td>0</td>\n",
       "      <td>0</td>\n",
       "    </tr>\n",
       "    <tr>\n",
       "      <th>1</th>\n",
       "      <td>-0.440036</td>\n",
       "      <td>2</td>\n",
       "      <td>0.198164</td>\n",
       "      <td>0.1</td>\n",
       "      <td>-0.104906</td>\n",
       "      <td>1</td>\n",
       "      <td>0</td>\n",
       "      <td>1</td>\n",
       "      <td>0.562709</td>\n",
       "      <td>0</td>\n",
       "      <td>0.562715</td>\n",
       "      <td>0</td>\n",
       "      <td>0</td>\n",
       "      <td>1</td>\n",
       "    </tr>\n",
       "    <tr>\n",
       "      <th>2</th>\n",
       "      <td>-1.536794</td>\n",
       "      <td>2</td>\n",
       "      <td>0.293517</td>\n",
       "      <td>0.8</td>\n",
       "      <td>0.489346</td>\n",
       "      <td>3</td>\n",
       "      <td>1</td>\n",
       "      <td>0</td>\n",
       "      <td>0.569654</td>\n",
       "      <td>1</td>\n",
       "      <td>0.569661</td>\n",
       "      <td>1</td>\n",
       "      <td>0</td>\n",
       "      <td>0</td>\n",
       "    </tr>\n",
       "    <tr>\n",
       "      <th>3</th>\n",
       "      <td>0.501521</td>\n",
       "      <td>2</td>\n",
       "      <td>0.007457</td>\n",
       "      <td>0.1</td>\n",
       "      <td>-0.761480</td>\n",
       "      <td>2</td>\n",
       "      <td>0</td>\n",
       "      <td>0</td>\n",
       "      <td>0.469120</td>\n",
       "      <td>0</td>\n",
       "      <td>0.351835</td>\n",
       "      <td>1</td>\n",
       "      <td>0</td>\n",
       "      <td>0</td>\n",
       "    </tr>\n",
       "    <tr>\n",
       "      <th>4</th>\n",
       "      <td>2.063884</td>\n",
       "      <td>2</td>\n",
       "      <td>0.388871</td>\n",
       "      <td>0.2</td>\n",
       "      <td>0.221806</td>\n",
       "      <td>1</td>\n",
       "      <td>1</td>\n",
       "      <td>1</td>\n",
       "      <td>0.395400</td>\n",
       "      <td>0</td>\n",
       "      <td>0.296546</td>\n",
       "      <td>0</td>\n",
       "      <td>0</td>\n",
       "      <td>1</td>\n",
       "    </tr>\n",
       "  </tbody>\n",
       "</table>\n",
       "</div>"
      ],
      "text/plain": [
       "   credit_score  gender       age  tenure   balance  num_of_products  \\\n",
       "0     -0.326221       2  0.293517     0.2 -0.761480                1   \n",
       "1     -0.440036       2  0.198164     0.1 -0.104906                1   \n",
       "2     -1.536794       2  0.293517     0.8  0.489346                3   \n",
       "3      0.501521       2  0.007457     0.1 -0.761480                2   \n",
       "4      2.063884       2  0.388871     0.2  0.221806                1   \n",
       "\n",
       "   has_cr_card  is_active_member  estimated_salary  exited  anual_revenue  \\\n",
       "0            1                 1          0.506735       1       0.506742   \n",
       "1            0                 1          0.562709       0       0.562715   \n",
       "2            1                 0          0.569654       1       0.569661   \n",
       "3            0                 0          0.469120       0       0.351835   \n",
       "4            1                 1          0.395400       0       0.296546   \n",
       "\n",
       "   geography_France  geography_Germany  geography_Spain  \n",
       "0                 1                  0                0  \n",
       "1                 0                  0                1  \n",
       "2                 1                  0                0  \n",
       "3                 1                  0                0  \n",
       "4                 0                  0                1  "
      ]
     },
     "execution_count": 65,
     "metadata": {},
     "output_type": "execute_result"
    }
   ],
   "source": [
    "# Check data preparation\n",
    "df5.head()"
   ]
  },
  {
   "cell_type": "markdown",
   "metadata": {},
   "source": [
    "## 5.3 Balancing Data - Oversampling with SMOTE"
   ]
  },
  {
   "cell_type": "code",
   "execution_count": 66,
   "metadata": {},
   "outputs": [],
   "source": [
    "# Using SMOTE\n",
    "smote = SMOTE(random_state=42)\n",
    "X_smote, y_smote = smote.fit_resample(df5.loc[:,df5.columns != 'exited'], df5.exited)"
   ]
  },
  {
   "cell_type": "code",
   "execution_count": 67,
   "metadata": {
    "scrolled": true
   },
   "outputs": [
    {
     "name": "stdout",
     "output_type": "stream",
     "text": [
      "The dataset's shape after the balancing has 15926 data points.\n"
     ]
    }
   ],
   "source": [
    "print(\"The dataset's shape after the balancing has {} data points.\".format(X_smote.shape[0]))"
   ]
  },
  {
   "cell_type": "markdown",
   "metadata": {},
   "source": [
    "# 6.0 Feature Selection"
   ]
  },
  {
   "cell_type": "code",
   "execution_count": 68,
   "metadata": {},
   "outputs": [],
   "source": [
    "df6 = df5.copy()"
   ]
  },
  {
   "cell_type": "markdown",
   "metadata": {},
   "source": [
    "## 6.1 Train and Test Datasets"
   ]
  },
  {
   "cell_type": "code",
   "execution_count": 69,
   "metadata": {},
   "outputs": [],
   "source": [
    "# Already balanced X and Y\n",
    "X=X_smote\n",
    "y=y_smote\n",
    "\n",
    "# Train and test spliT\n",
    "X_train, X_test, y_train, y_test = train_test_split(X, y, test_size=0.2,random_state=42)"
   ]
  },
  {
   "cell_type": "markdown",
   "metadata": {},
   "source": [
    "# 7.0 Machine Learning Modelling"
   ]
  },
  {
   "cell_type": "code",
   "execution_count": 72,
   "metadata": {},
   "outputs": [],
   "source": [
    "df7 = df6.copy()"
   ]
  },
  {
   "cell_type": "markdown",
   "metadata": {},
   "source": [
    "### 7.3.1 XGBoost - Cross Validation"
   ]
  },
  {
   "cell_type": "code",
   "execution_count": 82,
   "metadata": {},
   "outputs": [
    {
     "name": "stdout",
     "output_type": "stream",
     "text": [
      "Fold Nº: 1/10\n",
      "[18:41:08] WARNING: C:/Users/Administrator/workspace/xgboost-win64_release_1.3.0/src/learner.cc:1061: Starting in XGBoost 1.3.0, the default evaluation metric used with the objective 'binary:logistic' was changed from 'error' to 'logloss'. Explicitly set eval_metric if you'd like to restore the old behavior.\n",
      "Fold Nº: 2/10\n",
      "[18:41:10] WARNING: C:/Users/Administrator/workspace/xgboost-win64_release_1.3.0/src/learner.cc:1061: Starting in XGBoost 1.3.0, the default evaluation metric used with the objective 'binary:logistic' was changed from 'error' to 'logloss'. Explicitly set eval_metric if you'd like to restore the old behavior.\n",
      "Fold Nº: 3/10\n",
      "[18:41:12] WARNING: C:/Users/Administrator/workspace/xgboost-win64_release_1.3.0/src/learner.cc:1061: Starting in XGBoost 1.3.0, the default evaluation metric used with the objective 'binary:logistic' was changed from 'error' to 'logloss'. Explicitly set eval_metric if you'd like to restore the old behavior.\n",
      "Fold Nº: 4/10\n",
      "[18:41:13] WARNING: C:/Users/Administrator/workspace/xgboost-win64_release_1.3.0/src/learner.cc:1061: Starting in XGBoost 1.3.0, the default evaluation metric used with the objective 'binary:logistic' was changed from 'error' to 'logloss'. Explicitly set eval_metric if you'd like to restore the old behavior.\n",
      "Fold Nº: 5/10\n",
      "[18:41:15] WARNING: C:/Users/Administrator/workspace/xgboost-win64_release_1.3.0/src/learner.cc:1061: Starting in XGBoost 1.3.0, the default evaluation metric used with the objective 'binary:logistic' was changed from 'error' to 'logloss'. Explicitly set eval_metric if you'd like to restore the old behavior.\n",
      "Fold Nº: 6/10\n",
      "[18:41:17] WARNING: C:/Users/Administrator/workspace/xgboost-win64_release_1.3.0/src/learner.cc:1061: Starting in XGBoost 1.3.0, the default evaluation metric used with the objective 'binary:logistic' was changed from 'error' to 'logloss'. Explicitly set eval_metric if you'd like to restore the old behavior.\n",
      "Fold Nº: 7/10\n",
      "[18:41:18] WARNING: C:/Users/Administrator/workspace/xgboost-win64_release_1.3.0/src/learner.cc:1061: Starting in XGBoost 1.3.0, the default evaluation metric used with the objective 'binary:logistic' was changed from 'error' to 'logloss'. Explicitly set eval_metric if you'd like to restore the old behavior.\n",
      "Fold Nº: 8/10\n",
      "[18:41:20] WARNING: C:/Users/Administrator/workspace/xgboost-win64_release_1.3.0/src/learner.cc:1061: Starting in XGBoost 1.3.0, the default evaluation metric used with the objective 'binary:logistic' was changed from 'error' to 'logloss'. Explicitly set eval_metric if you'd like to restore the old behavior.\n",
      "Fold Nº: 9/10\n",
      "[18:41:22] WARNING: C:/Users/Administrator/workspace/xgboost-win64_release_1.3.0/src/learner.cc:1061: Starting in XGBoost 1.3.0, the default evaluation metric used with the objective 'binary:logistic' was changed from 'error' to 'logloss'. Explicitly set eval_metric if you'd like to restore the old behavior.\n",
      "Fold Nº: 10/10\n",
      "[18:41:24] WARNING: C:/Users/Administrator/workspace/xgboost-win64_release_1.3.0/src/learner.cc:1061: Starting in XGBoost 1.3.0, the default evaluation metric used with the objective 'binary:logistic' was changed from 'error' to 'logloss'. Explicitly set eval_metric if you'd like to restore the old behavior.\n"
     ]
    },
    {
     "data": {
      "text/html": [
       "<div>\n",
       "<style scoped>\n",
       "    .dataframe tbody tr th:only-of-type {\n",
       "        vertical-align: middle;\n",
       "    }\n",
       "\n",
       "    .dataframe tbody tr th {\n",
       "        vertical-align: top;\n",
       "    }\n",
       "\n",
       "    .dataframe thead th {\n",
       "        text-align: right;\n",
       "    }\n",
       "</style>\n",
       "<table border=\"1\" class=\"dataframe\">\n",
       "  <thead>\n",
       "    <tr style=\"text-align: right;\">\n",
       "      <th></th>\n",
       "      <th>Model Name</th>\n",
       "      <th>Avg F1-Score</th>\n",
       "    </tr>\n",
       "  </thead>\n",
       "  <tbody>\n",
       "    <tr>\n",
       "      <th>0</th>\n",
       "      <td>XGBoost</td>\n",
       "      <td>0.901+/-0.008</td>\n",
       "    </tr>\n",
       "  </tbody>\n",
       "</table>\n",
       "</div>"
      ],
      "text/plain": [
       "  Model Name   Avg F1-Score\n",
       "0    XGBoost  0.901+/-0.008"
      ]
     },
     "execution_count": 82,
     "metadata": {},
     "output_type": "execute_result"
    }
   ],
   "source": [
    "# Model definition\n",
    "\n",
    "xgb = XGBClassifier(random_state=42)#,eval_metric='mlogloss', use_label_encoder=False) #set eval_metric as mlogloss to avoid disfunction in the deploy\n",
    "\n",
    "# Cross Validation\n",
    "\n",
    "cross_validation(X_train, y_train, 10, 'XGBoost', xgb, verbose=True)"
   ]
  },
  {
   "cell_type": "markdown",
   "metadata": {},
   "source": [
    "### 7.3.2 XGBoost - Prediction"
   ]
  },
  {
   "cell_type": "code",
   "execution_count": 83,
   "metadata": {},
   "outputs": [
    {
     "name": "stdout",
     "output_type": "stream",
     "text": [
      "[18:41:25] WARNING: C:/Users/Administrator/workspace/xgboost-win64_release_1.3.0/src/learner.cc:1061: Starting in XGBoost 1.3.0, the default evaluation metric used with the objective 'binary:logistic' was changed from 'error' to 'logloss'. Explicitly set eval_metric if you'd like to restore the old behavior.\n"
     ]
    }
   ],
   "source": [
    "# Model Training\n",
    "xgb.fit(X_train, y_train)\n",
    "\n",
    "# Prediction \n",
    "pred_xgb = xgb.predict(X_test)\n",
    "\n",
    "# Performance\n",
    "f1_xgb = f1_score_metric('XGBoost',y_test,pred_xgb)\n",
    "f1_xgb\n",
    "\n",
    "# Save model to pickle\n",
    "# pickle.dump(xgb, open('src/model_xgb.pkl', 'wb'))"
   ]
  },
  {
   "cell_type": "markdown",
   "metadata": {},
   "source": [
    "### 7.3.3 XGBoost - Calibration Curve"
   ]
  },
  {
   "cell_type": "code",
   "execution_count": 84,
   "metadata": {},
   "outputs": [
    {
     "data": {
      "image/png": "[encoded data removed]",
      "text/plain": [
       "<Figure size 576x396 with 1 Axes>"
      ]
     },
     "metadata": {},
     "output_type": "display_data"
    }
   ],
   "source": [
    "## WITHOUT CALIBRATION\n",
    "# Predict probabilities for THE WHOLE DATASET\n",
    "prob_xgb_full = xgb.predict_proba(df7[X_test.columns])[:,1]\n",
    "\n",
    "fop_xgb, mpv_xgb = calibration_curve(df7.exited, prob_xgb_full, n_bins=10, normalize=True)\n",
    "plt.plot([0,1],[0,1],linestyle='--')\n",
    "plt.plot(mpv_xgb,fop_xgb, marker='.')\n",
    "plt.show()"
   ]
  },
  {
   "cell_type": "code",
   "execution_count": 85,
   "metadata": {
    "scrolled": true
   },
   "outputs": [
    {
     "name": "stdout",
     "output_type": "stream",
     "text": [
      "[18:48:17] WARNING: C:/Users/Administrator/workspace/xgboost-win64_release_1.3.0/src/learner.cc:1061: Starting in XGBoost 1.3.0, the default evaluation metric used with the objective 'binary:logistic' was changed from 'error' to 'logloss'. Explicitly set eval_metric if you'd like to restore the old behavior.\n",
      "[18:48:18] WARNING: C:/Users/Administrator/workspace/xgboost-win64_release_1.3.0/src/learner.cc:1061: Starting in XGBoost 1.3.0, the default evaluation metric used with the objective 'binary:logistic' was changed from 'error' to 'logloss'. Explicitly set eval_metric if you'd like to restore the old behavior.\n",
      "[18:48:20] WARNING: C:/Users/Administrator/workspace/xgboost-win64_release_1.3.0/src/learner.cc:1061: Starting in XGBoost 1.3.0, the default evaluation metric used with the objective 'binary:logistic' was changed from 'error' to 'logloss'. Explicitly set eval_metric if you'd like to restore the old behavior.\n",
      "[18:48:22] WARNING: C:/Users/Administrator/workspace/xgboost-win64_release_1.3.0/src/learner.cc:1061: Starting in XGBoost 1.3.0, the default evaluation metric used with the objective 'binary:logistic' was changed from 'error' to 'logloss'. Explicitly set eval_metric if you'd like to restore the old behavior.\n",
      "[18:48:23] WARNING: C:/Users/Administrator/workspace/xgboost-win64_release_1.3.0/src/learner.cc:1061: Starting in XGBoost 1.3.0, the default evaluation metric used with the objective 'binary:logistic' was changed from 'error' to 'logloss'. Explicitly set eval_metric if you'd like to restore the old behavior.\n"
     ]
    },
    {
     "data": {
      "image/png": "[encoded data removed]",
      "text/plain": [
       "<Figure size 576x396 with 1 Axes>"
      ]
     },
     "metadata": {},
     "output_type": "display_data"
    }
   ],
   "source": [
    "## CALIBRATION WITH CalibratedClassifierCV\n",
    "calibration = CalibratedClassifierCV(xgb, method='sigmoid',cv=5)\n",
    "calibration.fit(X_train,y_train)\n",
    "\n",
    "# Predict probabilities for THE WHOLE DATASET\n",
    "prob_xgb_full = calibration.predict_proba(df7[X_test.columns])[:,1]\n",
    "\n",
    "fop_xgb, mpv_xgb = calibration_curve(df7.exited, prob_xgb_full, n_bins=10, normalize=True)\n",
    "plt.plot([0,1],[0,1],linestyle='--')\n",
    "plt.plot(mpv_xgb,fop_xgb, marker='.')\n",
    "plt.show()"
   ]
  },
  {
   "cell_type": "code",
   "execution_count": 86,
   "metadata": {},
   "outputs": [],
   "source": [
    "xgb.save_model('model_xgb.model')"
   ]
  },
  {
   "cell_type": "markdown",
   "metadata": {},
   "source": [
    "# 8.0 Hyperparameter Fine-Tunning"
   ]
  },
  {
   "cell_type": "code",
   "execution_count": 92,
   "metadata": {},
   "outputs": [],
   "source": [
    "df8 = df7.copy()"
   ]
  },
  {
   "cell_type": "markdown",
   "metadata": {},
   "source": [
    "# 9.0 Churn Analysis"
   ]
  },
  {
   "cell_type": "code",
   "execution_count": 93,
   "metadata": {},
   "outputs": [],
   "source": [
    "df9 = df8.copy()"
   ]
  },
  {
   "cell_type": "code",
   "execution_count": 94,
   "metadata": {},
   "outputs": [],
   "source": [
    "df_prob = df2.copy()\n",
    "\n",
    "# Model elected: XGBoost\n",
    "\n",
    "df_prob['prob'] = prob_xgb_full"
   ]
  },
  {
   "cell_type": "code",
   "execution_count": 95,
   "metadata": {
    "scrolled": false
   },
   "outputs": [
    {
     "name": "stdout",
     "output_type": "stream",
     "text": [
      "The mean churn rate is 23%\n",
      "The mean churn rate is close to the actual percentage of clients in churn in the dataset, which is 20.4%\n"
     ]
    }
   ],
   "source": [
    "# Mean churn rate\n",
    "print('The mean churn rate is {:.0%}'.format(np.round(df_prob.prob.mean(),3)))\n",
    "print('The mean churn rate is close to the actual percentage of clients in churn in the dataset, which is 20.4%')"
   ]
  },
  {
   "cell_type": "code",
   "execution_count": 96,
   "metadata": {},
   "outputs": [
    {
     "name": "stdout",
     "output_type": "stream",
     "text": [
      "Mean churn rate without the actual churned clients is 11%\n"
     ]
    },
    {
     "data": {
      "image/png": "[encoded data removed]",
      "text/plain": [
       "<Figure size 576x396 with 1 Axes>"
      ]
     },
     "metadata": {},
     "output_type": "display_data"
    }
   ],
   "source": [
    "print('Mean churn rate without the actual churned clients is {:.0%}'.format(df_prob.loc[df_prob.exited==0, 'prob'].mean()));\n",
    "# Distribution of churn probabilities to non-churned clients\n",
    "sns.distplot(df_prob.loc[df_prob.exited==0, 'prob']);"
   ]
  },
  {
   "cell_type": "code",
   "execution_count": 97,
   "metadata": {
    "scrolled": true
   },
   "outputs": [
    {
     "data": {
      "image/png": "[encoded data removed]",
      "text/plain": [
       "<Figure size 576x396 with 1 Axes>"
      ]
     },
     "metadata": {},
     "output_type": "display_data"
    }
   ],
   "source": [
    "# Churn probability distribution to all clients\n",
    "sns.distplot(df_prob.prob);"
   ]
  },
  {
   "cell_type": "code",
   "execution_count": 98,
   "metadata": {
    "scrolled": true
   },
   "outputs": [
    {
     "data": {
      "image/png": "[encoded data removed]",
      "text/plain": [
       "<Figure size 576x396 with 1 Axes>"
      ]
     },
     "metadata": {},
     "output_type": "display_data"
    }
   ],
   "source": [
    "sns.distplot(df_prob[df_prob.is_active_member ==0]['prob'], label='Non-Active Member');\n",
    "\n",
    "sns.distplot(df_prob[df_prob.is_active_member ==1]['prob'], label='Active Member');\n",
    "plt.legend()\n",
    "plt.show()"
   ]
  },
  {
   "cell_type": "markdown",
   "metadata": {},
   "source": [
    "As it would normally be figured, active members have more lower probabilities to churn in comparasion to non-active members. Moreover, non-active members have slighty more higher probabilities to churn in relation to active members."
   ]
  },
  {
   "cell_type": "markdown",
   "metadata": {},
   "source": [
    "# 10.0 Bussiness Report and Financial Impact"
   ]
  },
  {
   "cell_type": "markdown",
   "metadata": {},
   "source": [
    "* Qual a taxa atual de Churn da TopBank? Como ela varia mensalmente?"
   ]
  },
  {
   "cell_type": "code",
   "execution_count": 99,
   "metadata": {},
   "outputs": [
    {
     "name": "stdout",
     "output_type": "stream",
     "text": [
      "A taxa atual média de churn da TopBank é 23%. Para uma análise de sua variação mensal é requerido uma maior coleta de dados e a alteração de sua granualiridade.\n"
     ]
    }
   ],
   "source": [
    "print('A taxa atual média de churn da TopBank é {:.0%}. Para uma análise de sua variação mensal é requerido uma maior coleta de dados e a alteração de sua granualiridade.'.format(np.round(df_prob.prob.mean(),3)))"
   ]
  },
  {
   "cell_type": "markdown",
   "metadata": {},
   "source": [
    "* Qual a Performance do modelo em classificar os clientes como churns?"
   ]
  },
  {
   "cell_type": "code",
   "execution_count": 100,
   "metadata": {},
   "outputs": [
    {
     "name": "stdout",
     "output_type": "stream",
     "text": [
      "A partir da métrica F1 score, pode-se afirmar que o modelo possui uma excelente performance em classificar os clientes como churns, com um valor de 0.905\n"
     ]
    },
    {
     "data": {
      "text/html": [
       "<div>\n",
       "<style scoped>\n",
       "    .dataframe tbody tr th:only-of-type {\n",
       "        vertical-align: middle;\n",
       "    }\n",
       "\n",
       "    .dataframe tbody tr th {\n",
       "        vertical-align: top;\n",
       "    }\n",
       "\n",
       "    .dataframe thead th {\n",
       "        text-align: right;\n",
       "    }\n",
       "</style>\n",
       "<table border=\"1\" class=\"dataframe\">\n",
       "  <thead>\n",
       "    <tr style=\"text-align: right;\">\n",
       "      <th></th>\n",
       "      <th>Model Name</th>\n",
       "      <th>F1 Score</th>\n",
       "    </tr>\n",
       "  </thead>\n",
       "  <tbody>\n",
       "    <tr>\n",
       "      <th>0</th>\n",
       "      <td>XGBoost</td>\n",
       "      <td>0.905</td>\n",
       "    </tr>\n",
       "  </tbody>\n",
       "</table>\n",
       "</div>"
      ],
      "text/plain": [
       "  Model Name  F1 Score\n",
       "0    XGBoost     0.905"
      ]
     },
     "execution_count": 100,
     "metadata": {},
     "output_type": "execute_result"
    }
   ],
   "source": [
    "print('A partir da métrica F1 score, pode-se afirmar que o modelo possui uma excelente performance em classificar os clientes como churns, com um valor de 0.905')\n",
    "f1_xgb"
   ]
  },
  {
   "cell_type": "markdown",
   "metadata": {},
   "source": [
    "## 10.1 Bussiness Analysis"
   ]
  },
  {
   "cell_type": "markdown",
   "metadata": {},
   "source": [
    "* Para quais clientes você daria o incentivo financeiro e qual seria esse valor, de modo a maximizar o ROI (Retorno sobre o investimento), tendo em vista que a soma dos incentivos não pode ultrapassar os 10.000,00?\n",
    "Qual o retorno esperado, em termos de faturamento, se a empresa utilizar seu modelo para evitar o churn dos clientes?"
   ]
  },
  {
   "cell_type": "markdown",
   "metadata": {},
   "source": [
    "A designação dos cupons de desconto envolve assumir diferentes cenários:\n",
    "\n",
    "1) **Idealista**: dar os incentivos (por exemplo, no valor de $100) fará com que todos os beneficiários permaneçam na empresa.\n",
    "\n",
    "2) **Realista**: os incentivos variam de acordo com a probabilidade do cliente entrar em churn.\n",
    "\n",
    "* Clientes que entrarão em churn independemente de incentivo: p(churn) > 0.90\n",
    "\n",
    "* Clientes que talvez permanecerão, mas somente com um incentivo de $200:\n",
    "0.80 < p(churn) < 0.89\n",
    "\n",
    "* Clientes que permenecerão com incentivo de $100: 0.75 < p(churn) < 0.79\n",
    "\n",
    "* Clientes que permencerão com incenttivo de $50: p(churn) < 0.75"
   ]
  },
  {
   "cell_type": "code",
   "execution_count": 101,
   "metadata": {},
   "outputs": [
    {
     "data": {
      "text/html": [
       "<div>\n",
       "<style scoped>\n",
       "    .dataframe tbody tr th:only-of-type {\n",
       "        vertical-align: middle;\n",
       "    }\n",
       "\n",
       "    .dataframe tbody tr th {\n",
       "        vertical-align: top;\n",
       "    }\n",
       "\n",
       "    .dataframe thead th {\n",
       "        text-align: right;\n",
       "    }\n",
       "</style>\n",
       "<table border=\"1\" class=\"dataframe\">\n",
       "  <thead>\n",
       "    <tr style=\"text-align: right;\">\n",
       "      <th></th>\n",
       "      <th>customer_id</th>\n",
       "      <th>prob</th>\n",
       "      <th>LTV</th>\n",
       "      <th>gift_cost</th>\n",
       "      <th>ROI</th>\n",
       "    </tr>\n",
       "  </thead>\n",
       "  <tbody>\n",
       "    <tr>\n",
       "      <th>0</th>\n",
       "      <td>15634602</td>\n",
       "      <td>0.325068</td>\n",
       "      <td>20269.7760</td>\n",
       "      <td>50.0</td>\n",
       "      <td>20219.776</td>\n",
       "    </tr>\n",
       "    <tr>\n",
       "      <th>2</th>\n",
       "      <td>15619304</td>\n",
       "      <td>0.970246</td>\n",
       "      <td>22786.3140</td>\n",
       "      <td>NaN</td>\n",
       "      <td>NaN</td>\n",
       "    </tr>\n",
       "    <tr>\n",
       "      <th>5</th>\n",
       "      <td>15574012</td>\n",
       "      <td>0.413826</td>\n",
       "      <td>29951.3420</td>\n",
       "      <td>50.0</td>\n",
       "      <td>29901.342</td>\n",
       "    </tr>\n",
       "    <tr>\n",
       "      <th>7</th>\n",
       "      <td>15656148</td>\n",
       "      <td>0.971168</td>\n",
       "      <td>23869.3760</td>\n",
       "      <td>NaN</td>\n",
       "      <td>NaN</td>\n",
       "    </tr>\n",
       "    <tr>\n",
       "      <th>16</th>\n",
       "      <td>15737452</td>\n",
       "      <td>0.969591</td>\n",
       "      <td>764.6505</td>\n",
       "      <td>NaN</td>\n",
       "      <td>NaN</td>\n",
       "    </tr>\n",
       "  </tbody>\n",
       "</table>\n",
       "</div>"
      ],
      "text/plain": [
       "    customer_id      prob         LTV  gift_cost        ROI\n",
       "0      15634602  0.325068  20269.7760       50.0  20219.776\n",
       "2      15619304  0.970246  22786.3140        NaN        NaN\n",
       "5      15574012  0.413826  29951.3420       50.0  29901.342\n",
       "7      15656148  0.971168  23869.3760        NaN        NaN\n",
       "16     15737452  0.969591    764.6505        NaN        NaN"
      ]
     },
     "execution_count": 101,
     "metadata": {},
     "output_type": "execute_result"
    }
   ],
   "source": [
    "# Creating a Dataframe with only the churned clients\n",
    "df_prob_churn = df_prob[df_prob.exited==1]\n",
    "\n",
    "# Creating a DataFrame with the probabilities to churn, the LTV, the gift cost and the ROI\n",
    "df_result = pd.DataFrame()\n",
    "df_result['customer_id'] = df_prob_churn.customer_id\n",
    "df_result['prob'] = df_prob_churn.prob\n",
    "df_result['LTV'] = df_prob_churn.anual_revenue\n",
    "\n",
    "conditions = [\n",
    "    (df_result['prob'] >= 0.9),\n",
    "    (df_result['prob'] >= 0.8) & (df_result['prob'] < 0.9),\n",
    "    (df_result['prob'] >= 0.75) & (df_result['prob'] < 0.8),\n",
    "    (df_result['prob'] < 0.75)\n",
    "    ]\n",
    "cost = [np.nan, 200, 100,50]\n",
    "\n",
    "# Designate gift cost according to churn probabilities\n",
    "df_result['gift_cost'] = np.select(conditions, cost)\n",
    "\n",
    "# Calculate the ROI (LTV - gift cost)\n",
    "df_result['ROI'] = df_result.LTV - df_result.gift_cost\n",
    "\n",
    "df_result.head()"
   ]
  },
  {
   "cell_type": "code",
   "execution_count": 102,
   "metadata": {},
   "outputs": [
    {
     "name": "stdout",
     "output_type": "stream",
     "text": [
      "At this point, we went from the 2037 total clients in churn to only 494 selected clients by ROI and their according viable probabilities.\n"
     ]
    }
   ],
   "source": [
    "# Select only the clients that may not churn and sort by the ROI\n",
    "selected_gifts = df_result.loc[(df_result.prob > 0.7) & (df_result.prob < 0.9)].sort_values(['ROI'], ascending=False)\n",
    "\n",
    "print('At this point, we went from the {0} total clients in churn to only {1} selected clients by ROI and their according viable probabilities.'.format(df_prob_churn.shape[0],selected_gifts.shape[0]))"
   ]
  },
  {
   "cell_type": "code",
   "execution_count": 103,
   "metadata": {},
   "outputs": [
    {
     "data": {
      "text/html": [
       "<div>\n",
       "<style scoped>\n",
       "    .dataframe tbody tr th:only-of-type {\n",
       "        vertical-align: middle;\n",
       "    }\n",
       "\n",
       "    .dataframe tbody tr th {\n",
       "        vertical-align: top;\n",
       "    }\n",
       "\n",
       "    .dataframe thead th {\n",
       "        text-align: right;\n",
       "    }\n",
       "</style>\n",
       "<table border=\"1\" class=\"dataframe\">\n",
       "  <thead>\n",
       "    <tr style=\"text-align: right;\">\n",
       "      <th></th>\n",
       "      <th>customer_id</th>\n",
       "      <th>prob</th>\n",
       "      <th>LTV</th>\n",
       "      <th>gift_cost</th>\n",
       "      <th>ROI</th>\n",
       "    </tr>\n",
       "  </thead>\n",
       "  <tbody>\n",
       "    <tr>\n",
       "      <th>8088</th>\n",
       "      <td>15815656</td>\n",
       "      <td>0.886659</td>\n",
       "      <td>39961.620</td>\n",
       "      <td>200.0</td>\n",
       "      <td>39761.620</td>\n",
       "    </tr>\n",
       "    <tr>\n",
       "      <th>118</th>\n",
       "      <td>15661670</td>\n",
       "      <td>0.875108</td>\n",
       "      <td>39945.078</td>\n",
       "      <td>200.0</td>\n",
       "      <td>39745.078</td>\n",
       "    </tr>\n",
       "    <tr>\n",
       "      <th>5087</th>\n",
       "      <td>15624641</td>\n",
       "      <td>0.824601</td>\n",
       "      <td>39858.136</td>\n",
       "      <td>200.0</td>\n",
       "      <td>39658.136</td>\n",
       "    </tr>\n",
       "    <tr>\n",
       "      <th>458</th>\n",
       "      <td>15707362</td>\n",
       "      <td>0.888151</td>\n",
       "      <td>39854.796</td>\n",
       "      <td>200.0</td>\n",
       "      <td>39654.796</td>\n",
       "    </tr>\n",
       "    <tr>\n",
       "      <th>2786</th>\n",
       "      <td>15585100</td>\n",
       "      <td>0.820317</td>\n",
       "      <td>39762.848</td>\n",
       "      <td>200.0</td>\n",
       "      <td>39562.848</td>\n",
       "    </tr>\n",
       "    <tr>\n",
       "      <th>8212</th>\n",
       "      <td>15621004</td>\n",
       "      <td>0.716373</td>\n",
       "      <td>39611.188</td>\n",
       "      <td>50.0</td>\n",
       "      <td>39561.188</td>\n",
       "    </tr>\n",
       "    <tr>\n",
       "      <th>3490</th>\n",
       "      <td>15809137</td>\n",
       "      <td>0.810676</td>\n",
       "      <td>39675.204</td>\n",
       "      <td>200.0</td>\n",
       "      <td>39475.204</td>\n",
       "    </tr>\n",
       "    <tr>\n",
       "      <th>4295</th>\n",
       "      <td>15616454</td>\n",
       "      <td>0.753235</td>\n",
       "      <td>39444.362</td>\n",
       "      <td>100.0</td>\n",
       "      <td>39344.362</td>\n",
       "    </tr>\n",
       "    <tr>\n",
       "      <th>7876</th>\n",
       "      <td>15757607</td>\n",
       "      <td>0.768849</td>\n",
       "      <td>39306.744</td>\n",
       "      <td>100.0</td>\n",
       "      <td>39206.744</td>\n",
       "    </tr>\n",
       "    <tr>\n",
       "      <th>7397</th>\n",
       "      <td>15744044</td>\n",
       "      <td>0.872594</td>\n",
       "      <td>39309.970</td>\n",
       "      <td>200.0</td>\n",
       "      <td>39109.970</td>\n",
       "    </tr>\n",
       "  </tbody>\n",
       "</table>\n",
       "</div>"
      ],
      "text/plain": [
       "      customer_id      prob        LTV  gift_cost        ROI\n",
       "8088     15815656  0.886659  39961.620      200.0  39761.620\n",
       "118      15661670  0.875108  39945.078      200.0  39745.078\n",
       "5087     15624641  0.824601  39858.136      200.0  39658.136\n",
       "458      15707362  0.888151  39854.796      200.0  39654.796\n",
       "2786     15585100  0.820317  39762.848      200.0  39562.848\n",
       "8212     15621004  0.716373  39611.188       50.0  39561.188\n",
       "3490     15809137  0.810676  39675.204      200.0  39475.204\n",
       "4295     15616454  0.753235  39444.362      100.0  39344.362\n",
       "7876     15757607  0.768849  39306.744      100.0  39206.744\n",
       "7397     15744044  0.872594  39309.970      200.0  39109.970"
      ]
     },
     "execution_count": 103,
     "metadata": {},
     "output_type": "execute_result"
    }
   ],
   "source": [
    "# Selecting the customers to receive the gift card according to the limited budget\n",
    "total_sum = 0\n",
    "customers = []\n",
    "\n",
    "for customer, gift in zip(selected_gifts.customer_id,selected_gifts.gift_cost):\n",
    "    total_sum = total_sum + gift\n",
    "    # Selection goes up to the amount of gift card we can spend, which is $10.000\n",
    "    if total_sum > 10000:\n",
    "        break\n",
    "    # Add client to list\n",
    "    customers.append(customer)\n",
    "    \n",
    "# Create final Dataframe\n",
    "selected_customers = selected_gifts[selected_gifts.customer_id.isin(customers)]\n",
    "selected_customers.head(10)"
   ]
  },
  {
   "cell_type": "markdown",
   "metadata": {},
   "source": [
    "* Note: the solution was not totally optimal once we did not automatized the gift card distribution. In other words, we spent only 9850 from the total budget, which means that we could still, for example, include a 100 and a 50 gift card clients."
   ]
  },
  {
   "cell_type": "markdown",
   "metadata": {},
   "source": [
    "Respondendo à pergunta:"
   ]
  },
  {
   "cell_type": "code",
   "execution_count": 104,
   "metadata": {},
   "outputs": [
    {
     "name": "stdout",
     "output_type": "stream",
     "text": [
      "The financial incentive (gift card) included 70 customers from the total 2037 customers in churn.\n",
      "It could be expected to return a ROI of $2596506.6.\n",
      "The total lost revenue if we expect all customers to churn is $38846324.63. This means that we could save 7% of revenue from using this model to prevent customers to churn.\n"
     ]
    }
   ],
   "source": [
    "print('The financial incentive (gift card) included {} customers from the total {} customers in churn.'.format(selected_customers.customer_id.nunique(), df_prob_churn.shape[0]))\n",
    "print('It could be expected to return a ROI of ${}.'.format(selected_customers.ROI.sum().round(2)))\n",
    "print('The total lost revenue if we expect all customers to churn is ${}. This means that we could save {:.0%} of revenue from using this model to prevent customers to churn.'.format(df_prob_churn.anual_revenue.sum().round(2),selected_customers.ROI.sum().round(2)/df_prob_churn.anual_revenue.sum().round(2)))"
   ]
  },
  {
   "cell_type": "markdown",
   "metadata": {},
   "source": [
    "# 10.0 Deploy"
   ]
  },
  {
   "cell_type": "markdown",
   "metadata": {},
   "source": [
    "## 10.1 Churn Probability Class"
   ]
  },
  {
   "cell_type": "code",
   "execution_count": 107,
   "metadata": {},
   "outputs": [],
   "source": [
    "from imblearn.over_sampling import SMOTE\n",
    "from sklearn.calibration import CalibratedClassifierCV\n",
    "\n",
    "class ChurnProbability():\n",
    "    \n",
    "    def __init__(self):\n",
    "        self.home_path = 'C:\\\\Users\\\\Dell\\\\Desktop\\\\ciencia_de_dados\\\\0.Comunidade DS\\\\PA_03'\n",
    "        self.standard_scaler = pickle.load(open(self.home_path + 'src/standard_scaler.pkl', 'rb'))\n",
    "        self.minmax_scaler = pickle.load(open(self.home_path + 'src/minmax_scaler.pkl', 'rb'))\n",
    "        self.robust_scaler = pickle.load(open(self.home_path + 'src/robust_scaler.pkl', 'rb'))\n",
    "        self.model = pickle.load(open(self.home_path + 'src/model_xgb.pkl', 'rb'))\n",
    "    \n",
    "    def get_customer_id(self,data)\n",
    "        customers_id = data.customer_id\n",
    "        df_raw = data\n",
    "        return customers_id, df_raw\n",
    "    \n",
    "    def feature_engeneering(self,data):\n",
    "        \n",
    "        # Rename colunms\n",
    "        cols_old = data.columns.to_list()\n",
    "        snakecase = lambda x: inflection.underscore(x)\n",
    "        cols_new = list(map(snakecase, cols_old))\n",
    "        data.columns = cols_new\n",
    "\n",
    "        # Feature Engeneering - Annual Revenue\n",
    "        anual_revenue = []\n",
    "        for salary in data['estimated_salary']:\n",
    "            if salary < data['estimated_salary'].mean():\n",
    "                anual_revenue.append(salary*0.15)\n",
    "            elif salary > data['estimated_salary'].mean():\n",
    "                anual_revenue.append(salary*0.20)\n",
    "        data['anual_revenue'] = pd.Series(anual_revenue)\n",
    "\n",
    "        # Feature Filtering\n",
    "        # Drop customer_id and surname\n",
    "        data.drop(['customer_id','surname'], axis=1, inplace=True)\n",
    "        \n",
    "        return data\n",
    "\n",
    "    def data_preparation(self, data): \n",
    "\n",
    "        ## Categorical Variables\n",
    "\n",
    "        # One-hot Encoding - Geography\n",
    "        data = pd.get_dummies( data, prefix=['geography'], columns=['geography'] )\n",
    "\n",
    "        # Label encoding - Gender\n",
    "        data['gender'] = [1 if gender == 'Male' else 2 for gender in data['gender']]\n",
    "\n",
    "        ## Numerical Variables\n",
    "\n",
    "        # Normalization - Almost normal distribution features\n",
    "        data['age'] = self.standard_scaler.fit_transform(data[['age']].values)\n",
    "        data['credit_score'] = self.standard_scaler.fit_transform(data[['credit_score']].values)\n",
    "\n",
    "        # Rescaling - Non-Normal distribuited features\n",
    "        data['tenure'] = self.minmax_scaler.fit_transform(data[['tenure']].values)\n",
    "        data['estimated_salary'] = self.minmax_scaler.fit_transform(data[['estimated_salary']].values)\n",
    "        data['anual_revenue'] = self.minmax_scaler.fit_transform(data[['anual_revenue']].values)\n",
    "\n",
    "        # Robust Scaler\n",
    "        data['balance'] = self.robust_scaler.fit_transform(data[['balance']].values)\n",
    "\n",
    "        return data\n",
    "    \n",
    "    def data_balacing(self, data):\n",
    "        # Data Balacing using SMOTE\n",
    "        smote = SMOTE(random_state=42)\n",
    "        X_smote, y_smote = smote.fit_resample(data.loc[:,data.columns != 'exited'], data.exited)\n",
    "\n",
    "        # Already balanced X and Y\n",
    "        X=X_smote\n",
    "        y=y_smote\n",
    "\n",
    "        return X,y\n",
    "    \n",
    "    def get_proba(self,data,X,y):\n",
    "        ## CALIBRATION WITH CalibratedClassifierCV\n",
    "        calibration = CalibratedClassifierCV(self.model, method='sigmoid',cv=5)\n",
    "        calibration.fit(X,y)\n",
    "\n",
    "        # Predict probabilities for THE WHOLE DATASET\n",
    "        prob_xgb_full = calibration.predict_proba(data[X.columns])[:,1]\n",
    "        \n",
    "        return prob_xgb_full\n",
    "    \n",
    "    def get_df_prob(self, df_raw, prob):\n",
    "        df_raw['prob'] = prob\n",
    "        \n",
    "        return df_raw\n",
    "    \n",
    "    def get_gifted_customers(self, df_prob, limited_budget):\n",
    "        # Creating a Dataframe with only the churned clients\n",
    "        df_prob_churn = df_prob[df_prob.exited==1]\n",
    "\n",
    "        # Creating a DataFrame with the probabilities to churn, the LTV, the gift cost and the ROI\n",
    "        df_result = pd.DataFrame()\n",
    "        df_result['customer_id'] = df_prob_churn.customer_id\n",
    "        df_result['prob'] = df_prob_churn.prob\n",
    "        df_result['LTV'] = df_prob_churn.anual_revenue\n",
    "\n",
    "        conditions = [\n",
    "            (df_result['prob'] >= 0.9),\n",
    "            (df_result['prob'] >= 0.8) & (df_result['prob'] < 0.9),\n",
    "            (df_result['prob'] >= 0.75) & (df_result['prob'] < 0.8),\n",
    "            (df_result['prob'] < 0.75)\n",
    "            ]\n",
    "        cost = [np.nan, 200, 100,50]\n",
    "\n",
    "        # Designate gift cost according to churn probabilities\n",
    "        df_result['gift_cost'] = np.select(conditions, cost)\n",
    "\n",
    "        # Calculate the ROI (LTV - gift cost)\n",
    "        df_result['ROI'] = df_result.LTV - df_result.gift_cost\n",
    "        \n",
    "        # Select only the clients that may not churn and sort by the ROI\n",
    "        selected_gifts = df_result.loc[(df_result.prob > 0.7) & (df_result.prob < 0.9)].sort_values(['ROI'], ascending=False)\n",
    "\n",
    "        # Selecting the customers to receive the gift card according to the limited budget\n",
    "        total_sum = 0\n",
    "        customers = []\n",
    "\n",
    "        for customer, gift in zip(selected_gifts.customer_id,selected_gifts.gift_cost):\n",
    "            total_sum = total_sum + gift\n",
    "            # Selection goes up to the amount of gift card we can spend, which is $10.000\n",
    "            if total_sum > limited_budget:\n",
    "                break\n",
    "            # Add client to list\n",
    "            customers.append(customer)\n",
    "\n",
    "        # Create final Dataframe\n",
    "        gifted_customers = selected_gifts[selected_gifts.customer_id.isin(customers)]\n",
    "        \n",
    "        return gifted_customers"
   ]
  },
  {
   "cell_type": "code",
   "execution_count": 112,
   "metadata": {},
   "outputs": [
    {
     "data": {
      "text/html": [
       "<div>\n",
       "<style scoped>\n",
       "    .dataframe tbody tr th:only-of-type {\n",
       "        vertical-align: middle;\n",
       "    }\n",
       "\n",
       "    .dataframe tbody tr th {\n",
       "        vertical-align: top;\n",
       "    }\n",
       "\n",
       "    .dataframe thead th {\n",
       "        text-align: right;\n",
       "    }\n",
       "</style>\n",
       "<table border=\"1\" class=\"dataframe\">\n",
       "  <thead>\n",
       "    <tr style=\"text-align: right;\">\n",
       "      <th></th>\n",
       "      <th>customer_id</th>\n",
       "      <th>surname</th>\n",
       "      <th>credit_score</th>\n",
       "      <th>geography</th>\n",
       "      <th>gender</th>\n",
       "      <th>age</th>\n",
       "      <th>tenure</th>\n",
       "      <th>balance</th>\n",
       "      <th>num_of_products</th>\n",
       "      <th>has_cr_card</th>\n",
       "      <th>is_active_member</th>\n",
       "      <th>estimated_salary</th>\n",
       "      <th>exited</th>\n",
       "      <th>anual_revenue</th>\n",
       "      <th>prob</th>\n",
       "    </tr>\n",
       "  </thead>\n",
       "  <tbody>\n",
       "    <tr>\n",
       "      <th>0</th>\n",
       "      <td>15634602</td>\n",
       "      <td>Hargrave</td>\n",
       "      <td>619</td>\n",
       "      <td>France</td>\n",
       "      <td>Female</td>\n",
       "      <td>42</td>\n",
       "      <td>2</td>\n",
       "      <td>0.00</td>\n",
       "      <td>1</td>\n",
       "      <td>1</td>\n",
       "      <td>1</td>\n",
       "      <td>101348.88</td>\n",
       "      <td>1</td>\n",
       "      <td>20269.7760</td>\n",
       "      <td>0.325068</td>\n",
       "    </tr>\n",
       "    <tr>\n",
       "      <th>1</th>\n",
       "      <td>15647311</td>\n",
       "      <td>Hill</td>\n",
       "      <td>608</td>\n",
       "      <td>Spain</td>\n",
       "      <td>Female</td>\n",
       "      <td>41</td>\n",
       "      <td>1</td>\n",
       "      <td>83807.86</td>\n",
       "      <td>1</td>\n",
       "      <td>0</td>\n",
       "      <td>1</td>\n",
       "      <td>112542.58</td>\n",
       "      <td>0</td>\n",
       "      <td>22508.5160</td>\n",
       "      <td>0.098526</td>\n",
       "    </tr>\n",
       "    <tr>\n",
       "      <th>2</th>\n",
       "      <td>15619304</td>\n",
       "      <td>Onio</td>\n",
       "      <td>502</td>\n",
       "      <td>France</td>\n",
       "      <td>Female</td>\n",
       "      <td>42</td>\n",
       "      <td>8</td>\n",
       "      <td>159660.80</td>\n",
       "      <td>3</td>\n",
       "      <td>1</td>\n",
       "      <td>0</td>\n",
       "      <td>113931.57</td>\n",
       "      <td>1</td>\n",
       "      <td>22786.3140</td>\n",
       "      <td>0.970246</td>\n",
       "    </tr>\n",
       "    <tr>\n",
       "      <th>3</th>\n",
       "      <td>15701354</td>\n",
       "      <td>Boni</td>\n",
       "      <td>699</td>\n",
       "      <td>France</td>\n",
       "      <td>Female</td>\n",
       "      <td>39</td>\n",
       "      <td>1</td>\n",
       "      <td>0.00</td>\n",
       "      <td>2</td>\n",
       "      <td>0</td>\n",
       "      <td>0</td>\n",
       "      <td>93826.63</td>\n",
       "      <td>0</td>\n",
       "      <td>14073.9945</td>\n",
       "      <td>0.065143</td>\n",
       "    </tr>\n",
       "    <tr>\n",
       "      <th>4</th>\n",
       "      <td>15737888</td>\n",
       "      <td>Mitchell</td>\n",
       "      <td>850</td>\n",
       "      <td>Spain</td>\n",
       "      <td>Female</td>\n",
       "      <td>43</td>\n",
       "      <td>2</td>\n",
       "      <td>125510.82</td>\n",
       "      <td>1</td>\n",
       "      <td>1</td>\n",
       "      <td>1</td>\n",
       "      <td>79084.10</td>\n",
       "      <td>0</td>\n",
       "      <td>11862.6150</td>\n",
       "      <td>0.047572</td>\n",
       "    </tr>\n",
       "  </tbody>\n",
       "</table>\n",
       "</div>"
      ],
      "text/plain": [
       "   customer_id   surname  credit_score geography  gender  age  tenure  \\\n",
       "0     15634602  Hargrave           619    France  Female   42       2   \n",
       "1     15647311      Hill           608     Spain  Female   41       1   \n",
       "2     15619304      Onio           502    France  Female   42       8   \n",
       "3     15701354      Boni           699    France  Female   39       1   \n",
       "4     15737888  Mitchell           850     Spain  Female   43       2   \n",
       "\n",
       "     balance  num_of_products  has_cr_card  is_active_member  \\\n",
       "0       0.00                1            1                 1   \n",
       "1   83807.86                1            0                 1   \n",
       "2  159660.80                3            1                 0   \n",
       "3       0.00                2            0                 0   \n",
       "4  125510.82                1            1                 1   \n",
       "\n",
       "   estimated_salary  exited  anual_revenue      prob  \n",
       "0         101348.88       1     20269.7760  0.325068  \n",
       "1         112542.58       0     22508.5160  0.098526  \n",
       "2         113931.57       1     22786.3140  0.970246  \n",
       "3          93826.63       0     14073.9945  0.065143  \n",
       "4          79084.10       0     11862.6150  0.047572  "
      ]
     },
     "execution_count": 112,
     "metadata": {},
     "output_type": "execute_result"
    }
   ],
   "source": [
    "df_prob.head()"
   ]
  }
 ],
 "metadata": {
  "kernelspec": {
   "display_name": "Python 3",
   "language": "python",
   "name": "python3"
  },
  "language_info": {
   "codemirror_mode": {
    "name": "ipython",
    "version": 3
   },
   "file_extension": ".py",
   "mimetype": "text/x-python",
   "name": "python",
   "nbconvert_exporter": "python",
   "pygments_lexer": "ipython3",
   "version": "3.7.6"
  }
 },
 "nbformat": 4,
 "nbformat_minor": 4
}
